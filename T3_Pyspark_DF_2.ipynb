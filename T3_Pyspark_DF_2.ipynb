{
  "nbformat": 4,
  "nbformat_minor": 0,
  "metadata": {
    "colab": {
      "provenance": [],
      "authorship_tag": "ABX9TyOv+aQMu4ABsYZc1Wn8cYRm",
      "include_colab_link": true
    },
    "kernelspec": {
      "name": "python3",
      "display_name": "Python 3"
    },
    "language_info": {
      "name": "python"
    }
  },
  "cells": [
    {
      "cell_type": "markdown",
      "metadata": {
        "id": "view-in-github",
        "colab_type": "text"
      },
      "source": [
        "<a href=\"https://colab.research.google.com/github/darshanramani/Pyspark/blob/main/T3_Pyspark_DF_2.ipynb\" target=\"_parent\"><img src=\"https://colab.research.google.com/assets/colab-badge.svg\" alt=\"Open In Colab\"/></a>"
      ]
    },
    {
      "cell_type": "code",
      "execution_count": null,
      "metadata": {
        "colab": {
          "base_uri": "https://localhost:8080/"
        },
        "id": "a9omjOMdsHwx",
        "outputId": "ccf6b68e-5eb5-4304-8432-acc12a148696"
      },
      "outputs": [
        {
          "output_type": "stream",
          "name": "stdout",
          "text": [
            "Collecting pyspark\n",
            "  Downloading pyspark-3.5.0.tar.gz (316.9 MB)\n",
            "\u001b[2K     \u001b[90m━━━━━━━━━━━━━━━━━━━━━━━━━━━━━━━━━━━━━━━━\u001b[0m \u001b[32m316.9/316.9 MB\u001b[0m \u001b[31m2.0 MB/s\u001b[0m eta \u001b[36m0:00:00\u001b[0m\n",
            "\u001b[?25h  Preparing metadata (setup.py) ... \u001b[?25l\u001b[?25hdone\n",
            "Requirement already satisfied: py4j==0.10.9.7 in /usr/local/lib/python3.10/dist-packages (from pyspark) (0.10.9.7)\n",
            "Building wheels for collected packages: pyspark\n",
            "  Building wheel for pyspark (setup.py) ... \u001b[?25l\u001b[?25hdone\n",
            "  Created wheel for pyspark: filename=pyspark-3.5.0-py2.py3-none-any.whl size=317425345 sha256=1fab202bc6520e1a6933981f4f7f94fb836150e691cddba49128b15535ea1907\n",
            "  Stored in directory: /root/.cache/pip/wheels/41/4e/10/c2cf2467f71c678cfc8a6b9ac9241e5e44a01940da8fbb17fc\n",
            "Successfully built pyspark\n",
            "Installing collected packages: pyspark\n",
            "Successfully installed pyspark-3.5.0\n"
          ]
        }
      ],
      "source": [
        "!pip install pyspark\n"
      ]
    },
    {
      "cell_type": "code",
      "source": [
        "import pyspark\n",
        "from pyspark.sql import SparkSession\n",
        "spark= SparkSession.builder.appName('DF in spark 2').getOrCreate()\n",
        "\n"
      ],
      "metadata": {
        "id": "www_tqtMsTD3"
      },
      "execution_count": null,
      "outputs": []
    },
    {
      "cell_type": "code",
      "source": [
        "spark"
      ],
      "metadata": {
        "colab": {
          "base_uri": "https://localhost:8080/",
          "height": 219
        },
        "id": "Tl9e1xtxzUBO",
        "outputId": "f66d1189-ffa1-4bb5-be88-2455bf4161e0"
      },
      "execution_count": null,
      "outputs": [
        {
          "output_type": "execute_result",
          "data": {
            "text/plain": [
              "<pyspark.sql.session.SparkSession at 0x79df0d1843d0>"
            ],
            "text/html": [
              "\n",
              "            <div>\n",
              "                <p><b>SparkSession - in-memory</b></p>\n",
              "                \n",
              "        <div>\n",
              "            <p><b>SparkContext</b></p>\n",
              "\n",
              "            <p><a href=\"http://e7275fa939cc:4040\">Spark UI</a></p>\n",
              "\n",
              "            <dl>\n",
              "              <dt>Version</dt>\n",
              "                <dd><code>v3.5.0</code></dd>\n",
              "              <dt>Master</dt>\n",
              "                <dd><code>local[*]</code></dd>\n",
              "              <dt>AppName</dt>\n",
              "                <dd><code>DF in soark 2</code></dd>\n",
              "            </dl>\n",
              "        </div>\n",
              "        \n",
              "            </div>\n",
              "        "
            ]
          },
          "metadata": {},
          "execution_count": 6
        }
      ]
    },
    {
      "cell_type": "code",
      "source": [
        "from google.colab import drive\n",
        "drive.mount('/content/drive')"
      ],
      "metadata": {
        "colab": {
          "base_uri": "https://localhost:8080/"
        },
        "id": "xICrKLZtspSD",
        "outputId": "8a38c60f-f062-4035-c5f2-e8f51b24f051"
      },
      "execution_count": null,
      "outputs": [
        {
          "output_type": "stream",
          "name": "stdout",
          "text": [
            "Mounted at /content/drive\n"
          ]
        }
      ]
    },
    {
      "cell_type": "code",
      "source": [],
      "metadata": {
        "id": "KQbCSzC1spig"
      },
      "execution_count": null,
      "outputs": []
    },
    {
      "cell_type": "code",
      "source": [],
      "metadata": {
        "id": "Wy3CCKY6486c"
      },
      "execution_count": null,
      "outputs": []
    },
    {
      "cell_type": "code",
      "source": [
        "### create dataframe"
      ],
      "metadata": {
        "id": "oy2HOGwgspvG"
      },
      "execution_count": null,
      "outputs": []
    },
    {
      "cell_type": "code",
      "source": [
        "data = [('Darshan','M',1000),('vatsal','M',1900),('Omkar','F',2500),('Yuvi','M',3500)]"
      ],
      "metadata": {
        "id": "YUT9ME8Ysp8A"
      },
      "execution_count": null,
      "outputs": []
    },
    {
      "cell_type": "code",
      "source": [
        "data"
      ],
      "metadata": {
        "colab": {
          "base_uri": "https://localhost:8080/"
        },
        "id": "BXZV-rcMsqEx",
        "outputId": "a31996e1-5a70-4fe3-c227-06dea811d4be"
      },
      "execution_count": null,
      "outputs": [
        {
          "output_type": "execute_result",
          "data": {
            "text/plain": [
              "[('Darshan', 'M', 1000),\n",
              " ('vatsal', 'M', 1900),\n",
              " ('Omkar', 'F', 2500),\n",
              " ('Yuvi', 'M', 3500)]"
            ]
          },
          "metadata": {},
          "execution_count": 9
        }
      ]
    },
    {
      "cell_type": "code",
      "source": [
        "type(data)"
      ],
      "metadata": {
        "colab": {
          "base_uri": "https://localhost:8080/"
        },
        "id": "0NiE-MEqsqOr",
        "outputId": "b6725aec-ef33-46c4-e9e3-582ae25e6490"
      },
      "execution_count": null,
      "outputs": [
        {
          "output_type": "execute_result",
          "data": {
            "text/plain": [
              "list"
            ]
          },
          "metadata": {},
          "execution_count": 10
        }
      ]
    },
    {
      "cell_type": "code",
      "source": [
        "col=['Name','gender','Salary']"
      ],
      "metadata": {
        "id": "SkgBijVZsqXX"
      },
      "execution_count": null,
      "outputs": []
    },
    {
      "cell_type": "code",
      "source": [
        "df=spark.createDataFrame(data=data, schema=col)"
      ],
      "metadata": {
        "id": "6AMwJqFh50go"
      },
      "execution_count": null,
      "outputs": []
    },
    {
      "cell_type": "code",
      "source": [
        "df"
      ],
      "metadata": {
        "colab": {
          "base_uri": "https://localhost:8080/"
        },
        "id": "mkU0x8m950dO",
        "outputId": "c122b4b1-7860-4680-ef02-df35e9d2dd01"
      },
      "execution_count": null,
      "outputs": [
        {
          "output_type": "execute_result",
          "data": {
            "text/plain": [
              "DataFrame[Name: string, gender: string, Salary: bigint]"
            ]
          },
          "metadata": {},
          "execution_count": 30
        }
      ]
    },
    {
      "cell_type": "code",
      "source": [
        "df.show()"
      ],
      "metadata": {
        "colab": {
          "base_uri": "https://localhost:8080/"
        },
        "id": "Z7hmlx-050Yh",
        "outputId": "5a6b69b7-29d9-468c-f361-be73be2ac443"
      },
      "execution_count": null,
      "outputs": [
        {
          "output_type": "stream",
          "name": "stdout",
          "text": [
            "+-------+------+------+\n",
            "|   Name|gender|Salary|\n",
            "+-------+------+------+\n",
            "|Darshan|     M|  1000|\n",
            "| vatsal|     M|  1900|\n",
            "|  Omkar|     F|  2500|\n",
            "|   Yuvi|     M|  3500|\n",
            "|  Chinu|      |  9900|\n",
            "+-------+------+------+\n",
            "\n"
          ]
        }
      ]
    },
    {
      "cell_type": "code",
      "source": [
        "from pyspark.sql.functions import when"
      ],
      "metadata": {
        "id": "cPtHBo6j50VV"
      },
      "execution_count": null,
      "outputs": []
    },
    {
      "cell_type": "code",
      "source": [
        "df2= df.withColumn(\"New Gender\", when(df.gender=='M','MALE').when(df.gender=='F','FEMALE').when(df.gender.isNull(),\"\").otherwise(df.gender))"
      ],
      "metadata": {
        "id": "rkG5n9fI50RO"
      },
      "execution_count": null,
      "outputs": []
    },
    {
      "cell_type": "code",
      "source": [
        "df2.show()"
      ],
      "metadata": {
        "colab": {
          "base_uri": "https://localhost:8080/"
        },
        "id": "sCZTtOZ950OF",
        "outputId": "9e7083c7-2d4a-40a5-cdb1-dc50195c3c7a"
      },
      "execution_count": null,
      "outputs": [
        {
          "output_type": "stream",
          "name": "stdout",
          "text": [
            "+-------+------+------+----------+\n",
            "|   Name|gender|Salary|New Gender|\n",
            "+-------+------+------+----------+\n",
            "|Darshan|     M|  1000|      MALE|\n",
            "| vatsal|     M|  1900|      MALE|\n",
            "|  Omkar|     F|  2500|    FEMALE|\n",
            "|   Yuvi|     M|  3500|      MALE|\n",
            "|  Chinu|      |  9900|          |\n",
            "+-------+------+------+----------+\n",
            "\n"
          ]
        }
      ]
    },
    {
      "cell_type": "code",
      "source": [
        "# data.append(('Chinu',' ',9900))"
      ],
      "metadata": {
        "id": "QIB1wzV-BHnL"
      },
      "execution_count": null,
      "outputs": []
    },
    {
      "cell_type": "code",
      "source": [
        "# data"
      ],
      "metadata": {
        "colab": {
          "base_uri": "https://localhost:8080/"
        },
        "id": "fjRnoBHjBHbE",
        "outputId": "63dcac44-b0a4-4176-95a6-0a0b62e5b8cc"
      },
      "execution_count": null,
      "outputs": [
        {
          "output_type": "execute_result",
          "data": {
            "text/plain": [
              "[('Darshan', 'M', 1000),\n",
              " ('vatsal', 'M', 1900),\n",
              " ('Omkar', 'F', 2500),\n",
              " ('Yuvi', 'M', 3500),\n",
              " ('Chinu', ' ', 9900)]"
            ]
          },
          "metadata": {},
          "execution_count": 28
        }
      ]
    },
    {
      "cell_type": "code",
      "source": [
        "from pyspark.sql.functions import expr, col"
      ],
      "metadata": {
        "id": "33fGshkNBHTR"
      },
      "execution_count": null,
      "outputs": []
    },
    {
      "cell_type": "code",
      "source": [
        "df3= df.withColumn(\"New Gender\",expr(\"CASE WHEN Gender ='M' THEN 'Male' \"+ \"when gender ='F' then 'Female' END\"))"
      ],
      "metadata": {
        "id": "VHpL2eGaBHOh"
      },
      "execution_count": null,
      "outputs": []
    },
    {
      "cell_type": "code",
      "source": [
        "df3.show()"
      ],
      "metadata": {
        "colab": {
          "base_uri": "https://localhost:8080/"
        },
        "id": "ywjLtmpGBHD8",
        "outputId": "14257ccd-d3d9-44c3-b353-ad0d03d20d2c"
      },
      "execution_count": null,
      "outputs": [
        {
          "output_type": "stream",
          "name": "stdout",
          "text": [
            "+-------+------+------+----------+\n",
            "|   Name|gender|Salary|New Gender|\n",
            "+-------+------+------+----------+\n",
            "|Darshan|     M|  1000|      Male|\n",
            "| vatsal|     M|  1900|      Male|\n",
            "|  Omkar|     F|  2500|    Female|\n",
            "|   Yuvi|     M|  3500|      Male|\n",
            "|  Chinu|      |  9900|      NULL|\n",
            "+-------+------+------+----------+\n",
            "\n"
          ]
        }
      ]
    }
  ]
}